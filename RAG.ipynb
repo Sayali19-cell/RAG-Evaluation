{
  "nbformat": 4,
  "nbformat_minor": 0,
  "metadata": {
    "colab": {
      "provenance": [],
      "authorship_tag": "ABX9TyNp7n5NgDbtZYGrj+MqUhWe",
      "include_colab_link": true
    },
    "kernelspec": {
      "name": "python3",
      "display_name": "Python 3"
    },
    "language_info": {
      "name": "python"
    }
  },
  "cells": [
    {
      "cell_type": "markdown",
      "metadata": {
        "id": "view-in-github",
        "colab_type": "text"
      },
      "source": [
        "<a href=\"https://colab.research.google.com/github/Sayali19-cell/RAG-Evaluation/blob/main/RAG.ipynb\" target=\"_parent\"><img src=\"https://colab.research.google.com/assets/colab-badge.svg\" alt=\"Open In Colab\"/></a>"
      ]
    },
    {
      "cell_type": "code",
      "source": [
        "import logging\n",
        "from sklearn.metrics import precision_score\n",
        "from nltk.translate.bleu_score import sentence_bleu\n",
        "\n",
        "# Configure logging\n",
        "logging.basicConfig(level=logging.INFO)\n",
        "logger = logging.getLogger(\"RAG Evaluation\")\n",
        "\n",
        "# Mock dataset for evaluation\n",
        "ground_truth_docs = {\"query1\": \"This is a relevant document.\", \"query2\": \"Another important document.\"}\n",
        "retrieved_docs = {\"query1\": \"This is a relevant document.\", \"query2\": \"An unrelated document.\"}\n",
        "\n",
        "ground_truth_responses = {\"query1\": \"The capital of France is Paris.\", \"query2\": \"Water boils at 100 degrees Celsius.\"}\n",
        "generated_responses = {\"query1\": \"The capital of France is Paris.\", \"query2\": \"Water boils at 150 degrees Celsius.\"}\n",
        "\n",
        "# 1. Retrieval Evaluation (Precision)\n",
        "def evaluate_retrieval(ground_truth_docs, retrieved_docs):\n",
        "    \"\"\"\n",
        "    Evaluates retrieval precision.\n",
        "    \"\"\"\n",
        "    true_positive = sum(1 for q in ground_truth_docs if ground_truth_docs[q] == retrieved_docs[q])\n",
        "    total_retrieved = len(retrieved_docs)\n",
        "    precision = true_positive / total_retrieved if total_retrieved > 0 else 0\n",
        "    logger.info(f\"Retrieval Precision: {precision:.2f}\")\n",
        "    return precision\n",
        "\n",
        "# 2. Generation Evaluation (BLEU Score)\n",
        "def evaluate_generation(ground_truth_responses, generated_responses):\n",
        "    \"\"\"\n",
        "    Evaluates generation quality using BLEU scores.\n",
        "    \"\"\"\n",
        "    bleu_scores = []\n",
        "    for query, true_response in ground_truth_responses.items():\n",
        "        generated = generated_responses.get(query, \"\")\n",
        "        bleu = sentence_bleu([true_response.split()], generated.split())\n",
        "        bleu_scores.append(bleu)\n",
        "        logger.info(f\"Query: {query}, BLEU Score: {bleu:.2f}\")\n",
        "    avg_bleu = sum(bleu_scores) / len(bleu_scores) if bleu_scores else 0\n",
        "    logger.info(f\"Average BLEU Score: {avg_bleu:.2f}\")\n",
        "    return avg_bleu\n",
        "\n",
        "# Main Function\n",
        "def main():\n",
        "    logger.info(\"Starting RAG Evaluation...\")\n",
        "\n",
        "    # Evaluate retrieval\n",
        "    retrieval_precision = evaluate_retrieval(ground_truth_docs, retrieved_docs)\n",
        "\n",
        "    # Evaluate generation\n",
        "    generation_bleu = evaluate_generation(ground_truth_responses, generated_responses)\n",
        "\n",
        "    # Final results\n",
        "    logger.info(\"RAG Evaluation Completed.\")\n",
        "    logger.info(f\"Final Results - Retrieval Precision: {retrieval_precision:.2f}, Generation BLEU Score: {generation_bleu:.2f}\")\n",
        "\n",
        "# Execute main\n",
        "if __name__ == \"__main__\":\n",
        "    main()\n"
      ],
      "metadata": {
        "id": "isK4uRC6WM4l"
      },
      "execution_count": 2,
      "outputs": []
    },
    {
      "cell_type": "code",
      "source": [
        "pip install nltk scikit-learn\n"
      ],
      "metadata": {
        "colab": {
          "base_uri": "https://localhost:8080/"
        },
        "id": "Hbu7odvTWiM1",
        "outputId": "7024315a-db09-4750-a413-62fb13df35f3"
      },
      "execution_count": 3,
      "outputs": [
        {
          "output_type": "stream",
          "name": "stdout",
          "text": [
            "Requirement already satisfied: nltk in /usr/local/lib/python3.10/dist-packages (3.9.1)\n",
            "Requirement already satisfied: scikit-learn in /usr/local/lib/python3.10/dist-packages (1.5.2)\n",
            "Requirement already satisfied: click in /usr/local/lib/python3.10/dist-packages (from nltk) (8.1.7)\n",
            "Requirement already satisfied: joblib in /usr/local/lib/python3.10/dist-packages (from nltk) (1.4.2)\n",
            "Requirement already satisfied: regex>=2021.8.3 in /usr/local/lib/python3.10/dist-packages (from nltk) (2024.9.11)\n",
            "Requirement already satisfied: tqdm in /usr/local/lib/python3.10/dist-packages (from nltk) (4.66.6)\n",
            "Requirement already satisfied: numpy>=1.19.5 in /usr/local/lib/python3.10/dist-packages (from scikit-learn) (1.26.4)\n",
            "Requirement already satisfied: scipy>=1.6.0 in /usr/local/lib/python3.10/dist-packages (from scikit-learn) (1.13.1)\n",
            "Requirement already satisfied: threadpoolctl>=3.1.0 in /usr/local/lib/python3.10/dist-packages (from scikit-learn) (3.5.0)\n"
          ]
        }
      ]
    },
    {
      "cell_type": "code",
      "source": [
        "!python rag_evaluation.py"
      ],
      "metadata": {
        "colab": {
          "base_uri": "https://localhost:8080/"
        },
        "id": "BNCRxTifWisH",
        "outputId": "47d5b365-a8f7-4857-c41b-415e184e2961"
      },
      "execution_count": 5,
      "outputs": [
        {
          "output_type": "stream",
          "name": "stdout",
          "text": [
            "python3: can't open file '/content/rag_evaluation.py': [Errno 2] No such file or directory\n"
          ]
        }
      ]
    }
  ]
}